{
 "cells": [
  {
   "cell_type": "code",
   "execution_count": 14,
   "metadata": {
    "collapsed": false
   },
   "outputs": [
    {
     "name": "stdout",
     "output_type": "stream",
     "text": [
      "5\n",
      "1 1\n",
      "2 4\n",
      "3 9\n",
      "4 16\n",
      "5 25\n",
      "[-7.  6.]\n",
      "[ 0.05373166  0.00310901]\n"
     ]
    }
   ],
   "source": [
    "import io\n",
    "import numpy\n",
    "import statsmodels.api\n",
    "import matplotlib.pyplot as plt\n",
    "\n",
    "\n",
    "def main():\n",
    "    (N, X, Y) = read_data()\n",
    "    results = do_simple_regression(N, X, Y)\n",
    "    print(results.params)\n",
    "    print(results.pvalues)\n",
    "    \n",
    "    \n",
    "def read_data():\n",
    "    mat = []\n",
    "    first_line = input().strip() # receice first line\n",
    "    first_line_splitted = first_line.split(\" \") # split line by space \" \"\n",
    "    N = int(first_line_splitted[0])\n",
    "    \n",
    "    for i in range(N):\n",
    "        line = input().strip() # receive each line ...\n",
    "        row = line.split(\" \")  # ... and split\n",
    "        \n",
    "        for j in range(len(row)):\n",
    "            row[j] = float(row[j]) # convert to integer\n",
    "        mat.append(row)\n",
    "    \n",
    "    mat = numpy.array(mat)\n",
    "    mat = mat.transpose()\n",
    "    \n",
    "    X = mat[0]\n",
    "    Y = mat[1]\n",
    "    return (N, X, Y)\n",
    "\n",
    "def do_simple_regression(N, X, Y):\n",
    "    # 2\n",
    "    X = statsmodels.api.add_constant(X) # 3\n",
    "    results = statsmodels.api.OLS(Y, X).fit()\n",
    "    return results\n",
    "\n",
    "if __name__ == \"__main__\":\n",
    "    main()"
   ]
  },
  {
   "cell_type": "code",
   "execution_count": null,
   "metadata": {
    "collapsed": true
   },
   "outputs": [],
   "source": []
  },
  {
   "cell_type": "code",
   "execution_count": null,
   "metadata": {
    "collapsed": true
   },
   "outputs": [],
   "source": []
  },
  {
   "cell_type": "code",
   "execution_count": null,
   "metadata": {
    "collapsed": true
   },
   "outputs": [],
   "source": []
  }
 ],
 "metadata": {
  "kernelspec": {
   "display_name": "Python 3",
   "language": "python",
   "name": "python3"
  },
  "language_info": {
   "codemirror_mode": {
    "name": "ipython",
    "version": 3
   },
   "file_extension": ".py",
   "mimetype": "text/x-python",
   "name": "python",
   "nbconvert_exporter": "python",
   "pygments_lexer": "ipython3",
   "version": "3.4.3"
  }
 },
 "nbformat": 4,
 "nbformat_minor": 1
}
