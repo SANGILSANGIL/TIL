{
 "cells": [
  {
   "cell_type": "code",
   "execution_count": 1,
   "metadata": {
    "collapsed": false
   },
   "outputs": [
    {
     "name": "stdout",
     "output_type": "stream",
     "text": [
      "5\n",
      "1 1\n",
      "2 4\n",
      "3 9\n",
      "4 16\n",
      "5 25\n",
      "                            OLS Regression Results                            \n",
      "==============================================================================\n",
      "Dep. Variable:                      y   R-squared:                       0.963\n",
      "Model:                            OLS   Adj. R-squared:                  0.950\n",
      "Method:                 Least Squares   F-statistic:                     77.14\n",
      "Date:                Sat, 27 Aug 2016   Prob (F-statistic):            0.00311\n",
      "Time:                        19:18:02   Log-Likelihood:                -9.6687\n",
      "No. Observations:                   5   AIC:                             23.34\n",
      "Df Residuals:                       3   BIC:                             22.56\n",
      "Df Model:                           1                                         \n",
      "Covariance Type:            nonrobust                                         \n",
      "==============================================================================\n",
      "                 coef    std err          t      P>|t|      [95.0% Conf. Int.]\n",
      "------------------------------------------------------------------------------\n",
      "const         -7.0000      2.266     -3.090      0.054       -14.210     0.210\n",
      "x1             6.0000      0.683      8.783      0.003         3.826     8.174\n",
      "==============================================================================\n",
      "Omnibus:                          nan   Durbin-Watson:                   1.429\n",
      "Prob(Omnibus):                    nan   Jarque-Bera (JB):                0.674\n",
      "Skew:                           0.256   Prob(JB):                        0.714\n",
      "Kurtosis:                       1.276   Cond. No.                         8.37\n",
      "==============================================================================\n",
      "\n",
      "Warnings:\n",
      "[1] Standard Errors assume that the covariance matrix of the errors is correctly specified.\n"
     ]
    },
    {
     "name": "stderr",
     "output_type": "stream",
     "text": [
      "/usr/local/lib/python3.4/dist-packages/statsmodels/stats/stattools.py:72: UserWarning: omni_normtest is not valid with less than 8 observations; 5 samples were given.\n",
      "  \"samples were given.\" % int(n))\n"
     ]
    }
   ],
   "source": [
    "import io\n",
    "import numpy\n",
    "import statsmodels.api\n",
    "\n",
    "def main():\n",
    "\n",
    "    (N, X, Y) = read_data()\n",
    "    results = do_simple_regression(N, X, Y)\n",
    "    print(results.summary())\n",
    "\n",
    "def read_data():\n",
    "    mat = []\n",
    "    first_line = input().strip() \n",
    "    first_line_splitted = first_line.split(\" \") \n",
    "    N = int(first_line_splitted[0])\n",
    "    \n",
    "    for i in range(N):\n",
    "        line = input().strip() \n",
    "        row = line.split(\" \") \n",
    "        \n",
    "        for j in range(len(row)):\n",
    "            row[j] = float(row[j]) \n",
    "        mat.append(row)\n",
    "    \n",
    "    mat = numpy.array(mat)\n",
    "    mat = mat.transpose()\n",
    "    \n",
    "    X = mat[0]\n",
    "    Y = mat[1]\n",
    "    return (N, X, Y)\n",
    "\n",
    "\n",
    "def do_simple_regression(N, X, Y):\n",
    "    X = statsmodels.api.add_constant(X) # 3\n",
    "    results = statsmodels.api.OLS(Y, X).fit()\n",
    "    return results\n",
    "\n",
    "if __name__ == \"__main__\":\n",
    "    main()"
   ]
  },
  {
   "cell_type": "code",
   "execution_count": null,
   "metadata": {
    "collapsed": true
   },
   "outputs": [],
   "source": []
  }
 ],
 "metadata": {
  "kernelspec": {
   "display_name": "Python 3",
   "language": "python",
   "name": "python3"
  },
  "language_info": {
   "codemirror_mode": {
    "name": "ipython",
    "version": 3
   },
   "file_extension": ".py",
   "mimetype": "text/x-python",
   "name": "python",
   "nbconvert_exporter": "python",
   "pygments_lexer": "ipython3",
   "version": "3.4.3"
  }
 },
 "nbformat": 4,
 "nbformat_minor": 1
}
