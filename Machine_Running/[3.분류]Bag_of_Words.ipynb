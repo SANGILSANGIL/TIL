{
 "cells": [
  {
   "cell_type": "code",
   "execution_count": 1,
   "metadata": {
    "collapsed": false
   },
   "outputs": [
    {
     "name": "stdout",
     "output_type": "stream",
     "text": [
      "John likes to watch movies. Mary likes movies too. Let's go!\n",
      "{'likes': 2, 'mary': 1, 'too': 1, 'let': 1, 'go': 1, 'to': 1, 'movies': 2, 's': 1, 'watch': 1, 'john': 1}\n"
     ]
    }
   ],
   "source": [
    "import re\n",
    "\n",
    "def main():\n",
    "    sentence = input()\n",
    "    BOW = create_BOW(sentence)\n",
    "\n",
    "    print(BOW)\n",
    "\n",
    "def create_BOW(sentence):\n",
    "    bow = {}\n",
    "    \n",
    "    sentence = sentence.lower()\n",
    "    sentence = replace_non_alphabetic_chars_to_space(sentence)\n",
    "    sentence = sentence.split(' ')\n",
    "    sentence = [word for word in sentence if len(word) > 0]\n",
    "    \n",
    "    for i in sentence:\n",
    "        bow[i] = bow.get(i, 0) + 1\n",
    "\n",
    "    return bow\n",
    "\n",
    "def replace_non_alphabetic_chars_to_space(sentence):\n",
    "    return re.sub(r'[^a-z]+', ' ', sentence)\n",
    "\n",
    "if __name__ == \"__main__\":\n",
    "    main()\n"
   ]
  },
  {
   "cell_type": "code",
   "execution_count": null,
   "metadata": {
    "collapsed": true
   },
   "outputs": [],
   "source": []
  }
 ],
 "metadata": {
  "kernelspec": {
   "display_name": "Python 3",
   "language": "python",
   "name": "python3"
  },
  "language_info": {
   "codemirror_mode": {
    "name": "ipython",
    "version": 3
   },
   "file_extension": ".py",
   "mimetype": "text/x-python",
   "name": "python",
   "nbconvert_exporter": "python",
   "pygments_lexer": "ipython3",
   "version": "3.4.3"
  }
 },
 "nbformat": 4,
 "nbformat_minor": 1
}
