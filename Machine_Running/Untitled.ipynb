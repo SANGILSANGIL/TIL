{
 "cells": [
  {
   "cell_type": "code",
   "execution_count": 1,
   "metadata": {
    "collapsed": false
   },
   "outputs": [
    {
     "name": "stdout",
     "output_type": "stream",
     "text": [
      "My neuron fired a signal\n"
     ]
    }
   ],
   "source": [
    "def activation(weight, x):\n",
    "    return_activation = []\n",
    "    for index, i in enumerate(weight):\n",
    "        return_activation.append(float(weight[index])*float(x[index]))\n",
    "    \n",
    "    return sum(return_activation)\n",
    "\n",
    "def output(weight, x):\n",
    "    a = activation(weight, x)\n",
    "    b = 1\n",
    "    if a + b <= 0:\n",
    "        return 0\n",
    "    else:\n",
    "        return 1\n",
    "    \n",
    "def main():\n",
    "    weight = [1, 0.5, -0.7, 0.1]\n",
    "    x = [0, 1, 1, 0]\n",
    "\n",
    "    if output(weight, x) == 1:\n",
    "        print(\"My neuron fired a signal\")\n",
    "    else:\n",
    "        print(\"My neuron did not fire a signal\")\n",
    "\n",
    "if __name__ == \"__main__\":\n",
    "    main()\n"
   ]
  },
  {
   "cell_type": "code",
   "execution_count": null,
   "metadata": {
    "collapsed": true
   },
   "outputs": [],
   "source": [
    "'''\n",
    "퍼셉트론은 여러 개의 입력들을 받습니다. 위의 그림에서는 4개의 입력을 받는 퍼셉트론을 보여줍니다. 각각의 입력은 퍼셉트론이 가지고 있는 weight\n",
    "와 연관이 되어 있는데, 퍼셉트론은 각각의 입력값마다 다른 weight 를 가질 수 있고 각각의 weight 는 음수일수도 있고 양수일수도 있습니다.\n",
    "\n",
    "입력값이 퍼셉트론에 들어옴에 따라, 입력값은 대응하는 weight 와 곱해지게 되고, 퍼셉트론은 이 곱한 값들을 전부 더합니다. 이 값을 activation \n",
    "이라고 부릅니다. 수학적으로, 입력값들을 x_1, x_2, x_3, x_4x\n",
    "라고 하고, weight 를 w_1, w_2, w_3, w_4 라고 하면 activation은 다음과 같이 계산됩니다:\n",
    "\n",
    "a = x1w1 + x2w2 + x3w3 + x4w4\n",
    "\n",
    "만약 activation 값이 특정 조건을 만족하게 되면 퍼셉트론은 신호를 출력을 통해 방출하게 됩니다. 이것을 output 이라고 부르며, 신호를 방출할때는\n",
    "1, 방출하지 않을때는 0 의 값을 가집니다. Output 이 서로 다른 신호를 방출하는 조건은 다음과 같습니다. 여기에서 aa 는 activation, bb 는 bias \n",
    "라고 부릅니다.\n",
    "\n",
    "output=(\n",
    "​1  if  a+b>0\n",
    "​0  if  a+b<=0\n",
    "​​ )\n",
    "\n",
    "'''"
   ]
  }
 ],
 "metadata": {
  "kernelspec": {
   "display_name": "Python 3",
   "language": "python",
   "name": "python3"
  },
  "language_info": {
   "codemirror_mode": {
    "name": "ipython",
    "version": 3
   },
   "file_extension": ".py",
   "mimetype": "text/x-python",
   "name": "python",
   "nbconvert_exporter": "python",
   "pygments_lexer": "ipython3",
   "version": "3.4.3"
  }
 },
 "nbformat": 4,
 "nbformat_minor": 1
}
